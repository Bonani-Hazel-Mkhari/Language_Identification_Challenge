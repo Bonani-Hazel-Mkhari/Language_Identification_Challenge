{
 "cells": [
  {
   "cell_type": "code",
   "execution_count": null,
   "metadata": {},
   "outputs": [],
   "source": [
    "#Import Libraries\n",
    "from comet_ml import Experiment\n",
    "from comet_ml.integration.sklearn import log_model"
   ]
  },
  {
   "cell_type": "code",
   "execution_count": null,
   "metadata": {},
   "outputs": [],
   "source": [
    "#Initiate Comet\n",
    "experiment = Experiment(\n",
    "  api_key=\"Pi7lAX5Amd6kvaBVBEB3qqSYV\",\n",
    "  project_name=\"Language Identification\",\n",
    "  workspace=\"bonanimkhari-gmail-com\"\n",
    ")"
   ]
  },
  {
   "cell_type": "code",
   "execution_count": null,
   "metadata": {},
   "outputs": [],
   "source": []
  },
  {
   "cell_type": "code",
   "execution_count": null,
   "metadata": {},
   "outputs": [],
   "source": []
  },
  {
   "cell_type": "code",
   "execution_count": null,
   "metadata": {},
   "outputs": [],
   "source": []
  },
  {
   "cell_type": "code",
   "execution_count": null,
   "metadata": {},
   "outputs": [],
   "source": []
  },
  {
   "cell_type": "code",
   "execution_count": null,
   "metadata": {},
   "outputs": [],
   "source": []
  },
  {
   "cell_type": "code",
   "execution_count": null,
   "metadata": {},
   "outputs": [],
   "source": [
    "#Define parameter and metrics dictionaries\n",
    "params = {\"random_state\": 42,\n",
    "          \"shuffle\": True,\n",
    "          \"test_size\": 0.2,\n",
    "          \"model_type\": \"logreg\",\n",
    "          \"scaler\": \"standard scaler\",\n",
    "          \"stratify\": True\n",
    "          }\n",
    "metrics = {\"f1\": f1,\n",
    "           \"recall\": recall,\n",
    "           \"precision\": precision,\n",
    "           \"accuracy\": accuracy,\n",
    "           \"f1_test\": f1_test,\n",
    "           \"training_time\": run_time.best\n",
    "           }"
   ]
  },
  {
   "cell_type": "code",
   "execution_count": null,
   "metadata": {},
   "outputs": [],
   "source": [
    "# Log metrics to Comet.ml\n",
    "experiment.log_confusion_matrix(matrix=confusion[name], title=f\"{name} - Confusion Matrix\")\n",
    "experiment.log_text(f\"{name} - Classification Report\", class_report[name]) \n",
    "experiment.log_parameters(params)\n",
    "experiment.log_metrics(metrics)\n",
    "\n",
    "\n",
    "# Seamlessly log your SKLearn model\n",
    "log_model(experiment, clf,\"TheModel\")"
   ]
  },
  {
   "cell_type": "code",
   "execution_count": null,
   "metadata": {},
   "outputs": [],
   "source": [
    "#End comet experiment\n",
    "experiment.end()"
   ]
  },
  {
   "cell_type": "code",
   "execution_count": null,
   "metadata": {},
   "outputs": [],
   "source": [
    "#Export prediction data to .csv for Kaggle submission\n",
    "df_final_sub.to_csv('Bonani_Mkhari.csv', index=False)"
   ]
  }
 ],
 "metadata": {
  "kernelspec": {
   "display_name": "base",
   "language": "python",
   "name": "python3"
  },
  "language_info": {
   "name": "python",
   "version": "3.11.5"
  }
 },
 "nbformat": 4,
 "nbformat_minor": 2
}
